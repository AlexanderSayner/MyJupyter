{
 "cells": [
  {
   "cell_type": "code",
   "execution_count": 1,
   "metadata": {},
   "outputs": [],
   "source": [
    "import random\n",
    "from deap import base, creator, tools, algorithms"
   ]
  },
  {
   "cell_type": "code",
   "execution_count": 2,
   "metadata": {
    "scrolled": true
   },
   "outputs": [
    {
     "name": "stdout",
     "output_type": "stream",
     "text": [
      "[1, 0, 1, 1, 0]\n",
      "()\n",
      "<class 'deap.creator.Individual'>\n",
      "<class 'deap.creator.FitnessAvg'>\n"
     ]
    }
   ],
   "source": [
    "creator.create(\"FitnessAvg\", base.Fitness, weights=(-1.0,))\n",
    "creator.create(\"Individual\", list, fitness=creator.FitnessAvg)\n",
    "\n",
    "ind = creator.Individual([1, 0, 1, 1, 0])\n",
    "\n",
    "print(ind)\n",
    "print(ind.fitness)\n",
    "print(type(ind))\n",
    "print(type(ind.fitness))"
   ]
  },
  {
   "cell_type": "code",
   "execution_count": 3,
   "metadata": {},
   "outputs": [
    {
     "name": "stdout",
     "output_type": "stream",
     "text": [
      "bit is of type <class 'float'> and has value\n",
      "0.12859833192409553\n",
      "ind is of type <class 'deap.creator.Individual'> and contains 10 bits\n",
      "[0.9903251206866932, 0.5626730038266073, 0.706200988713575, 0.7895133848457137, 0.6972734882122698, 0.8909743582672668, 0.3681253098015418, 0.03447547277287355, 0.35617493567212033, 0.3217642286187583]\n",
      "pop is of type <class 'list'> and contains 3 individuals\n",
      "[[0.5707616106284937, 0.11989551297202006, 0.1486278942480339, 0.4772500484004617, 0.36140885639510145, 0.023438332993381605, 0.6692156406725137, 0.10047691342718246, 0.016646866670173455, 0.4779019436025025], [0.5204925916972295, 0.025789336395299012, 0.49758880609680367, 0.2888329382155357, 0.5478033247811157, 0.9844816933357495, 0.3817946038225979, 0.6473031497885638, 0.21395945549527318, 0.6051679105275097], [0.6366004414746548, 0.9594476498994314, 0.8767873073371342, 0.44527511516338425, 0.1995568237898797, 0.7505883388609319, 0.68095977857939, 0.28801987958026265, 0.466123301012784, 0.23212909053320696]]\n"
     ]
    }
   ],
   "source": [
    "toolbox = base.Toolbox()\n",
    "toolbox.register(\"attr_bool\", random.uniform, 0, 1)\n",
    "toolbox.register(\"individual\", tools.initRepeat, creator.Individual, toolbox.attr_bool, n=10)\n",
    "toolbox.register(\"population\", tools.initRepeat, list, toolbox.individual)\n",
    "\n",
    "bit = toolbox.attr_bool()\n",
    "ind = toolbox.individual()\n",
    "pop = toolbox.population(n=3)\n",
    "\n",
    "print(\"bit is of type %s and has value\\n%s\" % (type(bit), bit))\n",
    "print(\"ind is of type %s and contains %d bits\\n%s\" % (type(ind), len(ind), ind))\n",
    "print(\"pop is of type %s and contains %d individuals\\n%s\" % (type(pop), len(pop), pop))"
   ]
  },
  {
   "cell_type": "code",
   "execution_count": 4,
   "metadata": {},
   "outputs": [
    {
     "name": "stdout",
     "output_type": "stream",
     "text": [
      "[0.6943797360047212, 0.5421610473107051, 0.7292987172930249, 0.8518590343904489, 0.06257260575367618, 0.68762676160219, 0.1570500730620621, 0.415222162167735, 0.6830898785989452, 0.6807491440082484]\n",
      "[0.9000406461716605, 0.5421610473107051, 0.7292987172930249, 0.9874099738683587, 0.06257260575367618, 0.68762676160219, 0.1570500730620621, 0.415222162167735, 0.6830898785989452, 0.6807491440082484]\n"
     ]
    }
   ],
   "source": [
    "def evalOneMax(individual):\n",
    "    return float(sum(individual)) / max(len(individual), 1),\n",
    "\n",
    "toolbox.register(\"evaluate\", evalOneMax)\n",
    "toolbox.register(\"mate\", tools.cxOnePoint)\n",
    "toolbox.register(\"mutate\", tools.mutGaussian, mu=0.0, sigma=0.2, indpb=0.2)\n",
    "toolbox.register(\"select\", tools.selTournament, tournsize=3)\n",
    "\n",
    "ind = toolbox.individual()\n",
    "print(ind)\n",
    "toolbox.mutate(ind)\n",
    "print(ind)"
   ]
  },
  {
   "cell_type": "code",
   "execution_count": 5,
   "metadata": {},
   "outputs": [
    {
     "name": "stdout",
     "output_type": "stream",
     "text": [
      "False\n",
      "True\n"
     ]
    }
   ],
   "source": [
    "mutant = toolbox.clone(ind)\n",
    "print(mutant is ind)\n",
    "print(mutant == ind)"
   ]
  },
  {
   "cell_type": "code",
   "execution_count": 6,
   "metadata": {},
   "outputs": [
    {
     "name": "stdout",
     "output_type": "stream",
     "text": [
      "gen\tnevals\tavg     \tmin     \tmax     \n",
      "0  \t100   \t0.499313\t0.250086\t0.709122\n",
      "1  \t71    \t0.422134\t0.354161\t0.506147\n",
      "2  \t64    \t0.393969\t0.366607\t0.480896\n",
      "3  \t70    \t0.358242\t0.277479\t0.410628\n",
      "4  \t68    \t0.315136\t0.226193\t0.385338\n",
      "5  \t70    \t0.282795\t0.208308\t0.349786\n",
      "6  \t71    \t0.253066\t0.197128\t0.291241\n",
      "7  \t64    \t0.218654\t0.174635\t0.274522\n",
      "8  \t63    \t0.191024\t0.144927\t0.208308\n",
      "9  \t72    \t0.169272\t0.137142\t0.208308\n",
      "10 \t72    \t0.150867\t0.0950942\t0.188541\n",
      "11 \t74    \t0.132092\t0.0922723\t0.182021\n",
      "12 \t74    \t0.10845 \t0.0601819\t0.144927\n",
      "13 \t66    \t0.0931435\t0.0601819\t0.144927\n",
      "14 \t72    \t0.079164 \t0.0180887\t0.0950942\n",
      "15 \t77    \t0.0560978\t0.0180887\t0.0882757\n",
      "16 \t76    \t0.0301553\t-0.00549557\t0.0664177\n",
      "17 \t71    \t0.0122317\t-0.010917  \t0.0414284\n",
      "18 \t71    \t-0.00187718\t-0.034707  \t0.0158708\n",
      "19 \t69    \t-0.0211245 \t-0.0437251 \t0.0109475\n",
      "20 \t70    \t-0.0439877 \t-0.0874031 \t-0.00500307\n",
      "21 \t69    \t-0.0542706 \t-0.100322  \t-0.00500307\n",
      "22 \t63    \t-0.0675096 \t-0.118953  \t-0.0399953 \n",
      "23 \t73    \t-0.0969729 \t-0.14699   \t-0.0485038 \n",
      "24 \t76    \t-0.123664  \t-0.172068  \t-0.098718  \n",
      "25 \t69    \t-0.158002  \t-0.220912  \t-0.112688  \n",
      "26 \t75    \t-0.177704  \t-0.231482  \t-0.14699   \n",
      "27 \t68    \t-0.221096  \t-0.257207  \t-0.172068  \n",
      "28 \t70    \t-0.240963  \t-0.274951  \t-0.216048  \n",
      "29 \t72    \t-0.258107  \t-0.274951  \t-0.231482  \n",
      "30 \t73    \t-0.280022  \t-0.313525  \t-0.244938  \n",
      "Best individual is: [-1.3935652396142528, -0.23760330783579134, -0.24665407703348435, 0.18155623575766386, -0.06574149226461717, -1.4528359561950834, 0.16533730833894866, -0.44357255421746, -0.0913609562455101, 0.11754909136684344]\n",
      "with fitness: (-0.34668909479427434,)\n"
     ]
    },
    {
     "data": {
      "image/png": "[encoded data removed]",
      "text/plain": [
       "<Figure size 432x288 with 1 Axes>"
      ]
     },
     "metadata": {
      "needs_background": "light"
     },
     "output_type": "display_data"
    }
   ],
   "source": [
    "def main():\n",
    "    import numpy\n",
    "    \n",
    "    pop = toolbox.population(n=100)\n",
    "    hof = tools.HallOfFame(1)\n",
    "    stats = tools.Statistics(lambda ind: ind.fitness.values)\n",
    "    stats.register(\"avg\", numpy.mean)\n",
    "    stats.register(\"min\", numpy.min)\n",
    "    stats.register(\"max\", numpy.max)\n",
    "    \n",
    "    MU = 20\n",
    "    LAMBDA = 100 \n",
    "    \n",
    "    pop, logbook = algorithms.eaMuPlusLambda(pop, toolbox, mu=MU, lambda_=LAMBDA, cxpb=0.5, mutpb=0.2, ngen=30, stats=stats, halloffame=hof, verbose=True)\n",
    "    \n",
    "    return pop, logbook, hof\n",
    "\n",
    "if __name__ == \"__main__\":\n",
    "    pop, log, hof = main()\n",
    "    print(\"Best individual is: %s\\nwith fitness: %s\" % (hof[0], hof[0].fitness))\n",
    "    \n",
    "    import matplotlib.pyplot as plt\n",
    "    gen, avg, min_, max_ = log.select(\"gen\", \"avg\", \"min\", \"max\")\n",
    "    plt.plot(gen, avg, label=\"average\")\n",
    "    plt.plot(gen, min_, label=\"minimum\")\n",
    "    plt.plot(gen, max_, label=\"maximum\")\n",
    "    plt.xlabel(\"Generation\")\n",
    "    plt.ylabel(\"Fitness\")\n",
    "    plt.legend(loc=\"lower right\")\n",
    "    plt.show()"
   ]
  }
 ],
 "metadata": {
  "kernelspec": {
   "display_name": "Python 3",
   "language": "python",
   "name": "python3"
  },
  "language_info": {
   "codemirror_mode": {
    "name": "ipython",
    "version": 3
   },
   "file_extension": ".py",
   "mimetype": "text/x-python",
   "name": "python",
   "nbconvert_exporter": "python",
   "pygments_lexer": "ipython3",
   "version": "3.7.6"
  }
 },
 "nbformat": 4,
 "nbformat_minor": 4
}
